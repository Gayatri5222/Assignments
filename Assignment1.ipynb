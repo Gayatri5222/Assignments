{
 "cells": [
  {
   "cell_type": "markdown",
   "id": "395ae228",
   "metadata": {},
   "source": [
    "# Write a Python program to get the Fibonacci series between 0 to 50"
   ]
  },
  {
   "cell_type": "code",
   "execution_count": 1,
   "id": "06b1dc90",
   "metadata": {},
   "outputs": [
    {
     "name": "stdout",
     "output_type": "stream",
     "text": [
      "enter start no : 0\n",
      "enter end no : 50\n",
      "The Fibonacci series is: \n",
      "0\n",
      "1\n",
      "1\n",
      "2\n",
      "3\n",
      "5\n",
      "8\n",
      "13\n",
      "21\n",
      "34\n"
     ]
    }
   ],
   "source": [
    "start=int(input('enter start no : '))\n",
    "end=int(input('enter end no : '))\n",
    "a=0\n",
    "b=1\n",
    "if(start<0):\n",
    "    print('incorrect input')\n",
    "elif start==1:\n",
    "    print(a)\n",
    "else:\n",
    "    print(\"The Fibonacci series is: \")\n",
    "    print(a)\n",
    "    print(b)\n",
    "    for i in range(2,end):\n",
    "        c=a+b\n",
    "        if c<end:\n",
    "            print(c)\n",
    "            a=b\n",
    "            b=c"
   ]
  },
  {
   "cell_type": "markdown",
   "id": "cc67a7d6",
   "metadata": {},
   "source": [
    "# Write a Python program that accepts a word from the user and reverse it."
   ]
  },
  {
   "cell_type": "code",
   "execution_count": 2,
   "id": "3009a0b5",
   "metadata": {},
   "outputs": [
    {
     "name": "stdout",
     "output_type": "stream",
     "text": [
      "Enter the string: Edyoda\n",
      "The original string is:  Edyoda\n",
      "The reverse string is:  adoydE\n"
     ]
    }
   ],
   "source": [
    "n=input(\"Enter the string: \")\n",
    "print(\"The original string is: \", n)\n",
    "rev_str=\"\"\n",
    "for i in range(len(n)-1,-1,-1):\n",
    "    rev_str=rev_str+n[i]\n",
    "print(\"The reverse string is: \",rev_str)    "
   ]
  },
  {
   "cell_type": "markdown",
   "id": "b1dfa2c2",
   "metadata": {},
   "source": [
    "# Write a Python program to count the number of even and odd numbers from a series of numbers."
   ]
  },
  {
   "cell_type": "code",
   "execution_count": 3,
   "id": "f1644739",
   "metadata": {},
   "outputs": [
    {
     "name": "stdout",
     "output_type": "stream",
     "text": [
      "Enter the tuple:(1, 2, 3, 4, 5, 6, 7, 8, 9) \n",
      "Count of even number:  4\n",
      "Count of odd number:  5\n"
     ]
    }
   ],
   "source": [
    "n=eval(input(\"Enter the tuple:\"))\n",
    "even=0\n",
    "odd=0\n",
    "for i in n:\n",
    "    if i%2==0:\n",
    "        even=even+1\n",
    "    else:\n",
    "        odd=odd+1\n",
    "print(\"Count of even number: \",even)\n",
    "print(\"Count of odd number: \",odd)"
   ]
  }
 ],
 "metadata": {
  "kernelspec": {
   "display_name": "Python 3",
   "language": "python",
   "name": "python3"
  },
  "language_info": {
   "codemirror_mode": {
    "name": "ipython",
    "version": 3
   },
   "file_extension": ".py",
   "mimetype": "text/x-python",
   "name": "python",
   "nbconvert_exporter": "python",
   "pygments_lexer": "ipython3",
   "version": "3.9.5"
  }
 },
 "nbformat": 4,
 "nbformat_minor": 5
}
